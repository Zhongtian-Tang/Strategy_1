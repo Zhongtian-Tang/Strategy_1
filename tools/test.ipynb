{
 "cells": [
  {
   "cell_type": "code",
   "execution_count": 1,
   "metadata": {},
   "outputs": [
    {
     "name": "stdout",
     "output_type": "stream",
     "text": [
      "c:\\Users\\hazc\\anaconda3\\Lib\\site-packages\\iFinDPy.pth\n"
     ]
    }
   ],
   "source": [
    "from stock_selector import DataFetcher, DataCleaner, DataHandler, StockSelector\n",
    "import numpy as np\n",
    "import pandas as pd\n",
    "import sys\n",
    "import os"
   ]
  },
  {
   "cell_type": "code",
   "execution_count": 2,
   "metadata": {},
   "outputs": [],
   "source": [
    "dataFetcher = DataFetcher()\n",
    "dataHandler = DataHandler()\n",
    "data_file_path = os.path.join(os.path.dirname(os.getcwd()), 'data')\n",
    "base_pool = pd.read_csv(data_file_path + '//codes_map.csv')\n",
    "calender = dataFetcher.get_calender_data('2014-01-01', '2023-08-01', endlevel=[(1,2), (1), (1,2), (1,2)])"
   ]
  },
  {
   "cell_type": "code",
   "execution_count": 3,
   "metadata": {},
   "outputs": [],
   "source": [
    "mv_data = pd.read_csv(data_file_path + '//daily_avg_mv_data.csv')\n",
    "mv_data = mv_data.set_index('wind_code')\n",
    "turnoverV_data = pd.read_csv(data_file_path + '//daily_avg_turnoverV_data.csv')\n",
    "turnoverV_data = turnoverV_data.set_index('wind_code')\n",
    "mv_rank = DataHandler().top_rank(mv_data, 0.8)\n",
    "turnoverV_rank = DataHandler().top_rank(turnoverV_data, 0.8)\n",
    "dividend_rank = pd.read_csv(data_file_path + '//dividend_index_data.csv')\n",
    "dividend_rank = dividend_rank.set_index('wind_code')\n",
    "dividend_rank = dividend_rank.apply(lambda col: col[col==1].index).apply(pd.Series).T\n",
    "stock_pool = []\n",
    "for i in range(115):\n",
    "    common_stocks = np.intersect1d(mv_rank.iloc[:,i].dropna(), np.intersect1d(turnoverV_rank.iloc[:,i].dropna(), dividend_rank.iloc[:,i].dropna()))\n",
    "    stock_pool.append(common_stocks)\n",
    "final_result = pd.DataFrame(stock_pool).T"
   ]
  },
  {
   "cell_type": "code",
   "execution_count": 4,
   "metadata": {},
   "outputs": [],
   "source": [
    "final_result.to_csv(\"Base_Pool_1.csv\")"
   ]
  },
  {
   "cell_type": "code",
   "execution_count": 90,
   "metadata": {},
   "outputs": [],
   "source": [
    "data_file_path = os.path.join(os.path.dirname(os.getcwd()), 'data')\n",
    "payratio_data = pd.read_csv(data_file_path + '//payratio_data.csv')\n",
    "dividend_delta_data = pd.read_csv(data_file_path + '//dividend_delta_data.csv')"
   ]
  },
  {
   "cell_type": "code",
   "execution_count": 126,
   "metadata": {},
   "outputs": [],
   "source": [
    "def filter_1(base_pool: pd.DataFrame, payratio_data: pd.DataFrame, dividend_delta_data: pd.DataFrame, ratio: float = 0.05):\n",
    "    filter_stocks = []\n",
    "    payratio_data = payratio_data.set_index('wind_code')\n",
    "    for date in base_pool.columns:\n",
    "        base_stocks = base_pool[date].dropna()\n",
    "        positive_dividend_growth = dividend_delta_data[(dividend_delta_data['year'] == int(date[:4])) & (dividend_delta_data['dividendps'] > 0)]['wind_code'].unique()\n",
    "        filter_1 = np.intersect1d(base_stocks, positive_dividend_growth)\n",
    "        sorted_stocks = payratio_data[date].dropna().sort_values(ascending=False)\n",
    "        top_5_percent_count = int(len(sorted_stocks) * ratio)\n",
    "        payratio_selected_stocks = sorted_stocks.iloc[top_5_percent_count:].index\n",
    "        filter_2 = np.intersect1d(base_stocks, payratio_selected_stocks)\n",
    "        final_filter =np.intersect1d(filter_1, filter_2)\n",
    "        filter_stocks.append(pd.Series(final_filter, name=date))\n",
    "    df = pd.concat(filter_stocks, axis=1)\n",
    "    return df\n"
   ]
  },
  {
   "cell_type": "code",
   "execution_count": 129,
   "metadata": {},
   "outputs": [],
   "source": [
    "conn = DataFetcher().conn\n",
    "query = \"SELECT TradingDay, DividendRatioLYR, DividendRatio FROM LC_DIndicesForValuation WHERE Innercode = 3\"\n",
    "df = pd.read_sql(query, conn)"
   ]
  },
  {
   "cell_type": "code",
   "execution_count": 132,
   "metadata": {},
   "outputs": [
    {
     "data": {
      "text/html": [
       "<div>\n",
       "<style scoped>\n",
       "    .dataframe tbody tr th:only-of-type {\n",
       "        vertical-align: middle;\n",
       "    }\n",
       "\n",
       "    .dataframe tbody tr th {\n",
       "        vertical-align: top;\n",
       "    }\n",
       "\n",
       "    .dataframe thead th {\n",
       "        text-align: right;\n",
       "    }\n",
       "</style>\n",
       "<table border=\"1\" class=\"dataframe\">\n",
       "  <thead>\n",
       "    <tr style=\"text-align: right;\">\n",
       "      <th></th>\n",
       "      <th>tradingday</th>\n",
       "      <th>dividendratiolyr</th>\n",
       "      <th>dividendratio</th>\n",
       "    </tr>\n",
       "  </thead>\n",
       "  <tbody>\n",
       "    <tr>\n",
       "      <th>8338</th>\n",
       "      <td>2014-01-30</td>\n",
       "      <td>0.8025</td>\n",
       "      <td>0.8025</td>\n",
       "    </tr>\n",
       "    <tr>\n",
       "      <th>8339</th>\n",
       "      <td>2014-01-31</td>\n",
       "      <td>0.8025</td>\n",
       "      <td>0.8025</td>\n",
       "    </tr>\n",
       "    <tr>\n",
       "      <th>8340</th>\n",
       "      <td>2014-02-01</td>\n",
       "      <td>0.8025</td>\n",
       "      <td>0.8025</td>\n",
       "    </tr>\n",
       "    <tr>\n",
       "      <th>8341</th>\n",
       "      <td>2014-02-02</td>\n",
       "      <td>0.8025</td>\n",
       "      <td>0.8025</td>\n",
       "    </tr>\n",
       "    <tr>\n",
       "      <th>8342</th>\n",
       "      <td>2014-02-03</td>\n",
       "      <td>0.8025</td>\n",
       "      <td>0.8025</td>\n",
       "    </tr>\n",
       "    <tr>\n",
       "      <th>...</th>\n",
       "      <td>...</td>\n",
       "      <td>...</td>\n",
       "      <td>...</td>\n",
       "    </tr>\n",
       "    <tr>\n",
       "      <th>11821</th>\n",
       "      <td>2023-08-14</td>\n",
       "      <td>1.9537</td>\n",
       "      <td>2.4422</td>\n",
       "    </tr>\n",
       "    <tr>\n",
       "      <th>11822</th>\n",
       "      <td>2023-08-15</td>\n",
       "      <td>1.9437</td>\n",
       "      <td>2.4297</td>\n",
       "    </tr>\n",
       "    <tr>\n",
       "      <th>11823</th>\n",
       "      <td>2023-08-16</td>\n",
       "      <td>1.9437</td>\n",
       "      <td>2.4297</td>\n",
       "    </tr>\n",
       "    <tr>\n",
       "      <th>11824</th>\n",
       "      <td>2023-08-17</td>\n",
       "      <td>1.9706</td>\n",
       "      <td>2.4633</td>\n",
       "    </tr>\n",
       "    <tr>\n",
       "      <th>11825</th>\n",
       "      <td>2023-08-18</td>\n",
       "      <td>1.9723</td>\n",
       "      <td>2.4654</td>\n",
       "    </tr>\n",
       "  </tbody>\n",
       "</table>\n",
       "<p>3488 rows × 3 columns</p>\n",
       "</div>"
      ],
      "text/plain": [
       "      tradingday  dividendratiolyr  dividendratio\n",
       "8338  2014-01-30            0.8025         0.8025\n",
       "8339  2014-01-31            0.8025         0.8025\n",
       "8340  2014-02-01            0.8025         0.8025\n",
       "8341  2014-02-02            0.8025         0.8025\n",
       "8342  2014-02-03            0.8025         0.8025\n",
       "...          ...               ...            ...\n",
       "11821 2023-08-14            1.9537         2.4422\n",
       "11822 2023-08-15            1.9437         2.4297\n",
       "11823 2023-08-16            1.9437         2.4297\n",
       "11824 2023-08-17            1.9706         2.4633\n",
       "11825 2023-08-18            1.9723         2.4654\n",
       "\n",
       "[3488 rows x 3 columns]"
      ]
     },
     "execution_count": 132,
     "metadata": {},
     "output_type": "execute_result"
    }
   ],
   "source": [
    "df[df['tradingday'] >= '2014-01-30']"
   ]
  },
  {
   "cell_type": "code",
   "execution_count": null,
   "metadata": {},
   "outputs": [],
   "source": []
  }
 ],
 "metadata": {
  "kernelspec": {
   "display_name": "base",
   "language": "python",
   "name": "python3"
  },
  "language_info": {
   "codemirror_mode": {
    "name": "ipython",
    "version": 3
   },
   "file_extension": ".py",
   "mimetype": "text/x-python",
   "name": "python",
   "nbconvert_exporter": "python",
   "pygments_lexer": "ipython3",
   "version": "3.10.9"
  },
  "orig_nbformat": 4
 },
 "nbformat": 4,
 "nbformat_minor": 2
}
