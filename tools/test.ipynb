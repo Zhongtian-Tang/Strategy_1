{
 "cells": [
  {
   "cell_type": "code",
   "execution_count": 1,
   "metadata": {},
   "outputs": [
    {
     "name": "stdout",
     "output_type": "stream",
     "text": [
      "c:\\Users\\hazc\\anaconda3\\Lib\\site-packages\\iFinDPy.pth\n"
     ]
    }
   ],
   "source": [
    "from stock_selector import DataFetcher, DataCleaner, DataHandler, StockSelector\n",
    "import numpy as np\n",
    "import pandas as pd\n",
    "import sys\n",
    "import os"
   ]
  },
  {
   "cell_type": "code",
   "execution_count": 2,
   "metadata": {},
   "outputs": [],
   "source": [
    "conn = DataFetcher().conn"
   ]
  },
  {
   "cell_type": "code",
   "execution_count": 3,
   "metadata": {},
   "outputs": [],
   "source": [
    "query = f\"\"\"\n",
    "SELECT * FROM JYDB.LC_InstiArchive\n",
    "\"\"\"\n",
    "df = pd.read_sql(query, conn)"
   ]
  },
  {
   "cell_type": "code",
   "execution_count": 2,
   "metadata": {},
   "outputs": [],
   "source": [
    "dataFetcher = DataFetcher()\n",
    "dataHandler = DataHandler()\n",
    "data_file_path = os.path.join(os.path.dirname(os.getcwd()), 'data')\n",
    "base_pool = pd.read_csv(data_file_path + '//codes_map.csv')\n",
    "calender = dataFetcher.get_calender_data('2014-01-01', '2023-08-01', endlevel=[(1,2), (1), (1,2), (1,2)])"
   ]
  },
  {
   "cell_type": "code",
   "execution_count": 3,
   "metadata": {},
   "outputs": [],
   "source": [
    "mv_data = pd.read_csv(data_file_path + '//daily_avg_mv_data.csv')\n",
    "mv_data = mv_data.set_index('wind_code')\n",
    "turnoverV_data = pd.read_csv(data_file_path + '//daily_avg_turnoverV_data.csv')\n",
    "turnoverV_data = turnoverV_data.set_index('wind_code')\n",
    "mv_rank = DataHandler().top_rank(mv_data, 0.8)\n",
    "turnoverV_rank = DataHandler().top_rank(turnoverV_data, 0.8)\n",
    "dividend_rank = pd.read_csv(data_file_path + '//dividend_index_data.csv')\n",
    "dividend_rank = dividend_rank.set_index('wind_code')\n",
    "dividend_rank = dividend_rank.apply(lambda col: col[col==1].index).apply(pd.Series).T\n",
    "stock_pool = []\n",
    "for i in range(115):\n",
    "    common_stocks = np.intersect1d(mv_rank.iloc[:,i].dropna(), np.intersect1d(turnoverV_rank.iloc[:,i].dropna(), dividend_rank.iloc[:,i].dropna()))\n",
    "    stock_pool.append(common_stocks)\n",
    "final_result = pd.DataFrame(stock_pool).T"
   ]
  },
  {
   "cell_type": "code",
   "execution_count": 4,
   "metadata": {},
   "outputs": [],
   "source": [
    "payratio_data = DataFetcher().get_payratio_data(calender)\n",
    "payratio_data = DataHandler().payratio_handler(payratio_data, base_pool)"
   ]
  },
  {
   "cell_type": "code",
   "execution_count": 5,
   "metadata": {},
   "outputs": [],
   "source": [
    "dividend_data = DataFetcher().get_dividend_data(start_year=2011, end_year=2024)"
   ]
  },
  {
   "cell_type": "code",
   "execution_count": 6,
   "metadata": {},
   "outputs": [],
   "source": [
    "dividend_data = DataHandler().dividend_delta_handler(dividend_data,base_pool)"
   ]
  },
  {
   "cell_type": "code",
   "execution_count": 7,
   "metadata": {},
   "outputs": [],
   "source": [
    "dividend_data = dividend_data.reset_index()"
   ]
  },
  {
   "cell_type": "code",
   "execution_count": 8,
   "metadata": {},
   "outputs": [],
   "source": [
    "final_result.columns = payratio_data.columns"
   ]
  },
  {
   "cell_type": "code",
   "execution_count": 9,
   "metadata": {},
   "outputs": [],
   "source": [
    "test = StockSelector(DataFetcher().conn).filter_1(final_result, payratio_data, dividend_data)"
   ]
  },
  {
   "cell_type": "code",
   "execution_count": null,
   "metadata": {},
   "outputs": [],
   "source": []
  }
 ],
 "metadata": {
  "kernelspec": {
   "display_name": "base",
   "language": "python",
   "name": "python3"
  },
  "language_info": {
   "codemirror_mode": {
    "name": "ipython",
    "version": 3
   },
   "file_extension": ".py",
   "mimetype": "text/x-python",
   "name": "python",
   "nbconvert_exporter": "python",
   "pygments_lexer": "ipython3",
   "version": "3.10.9"
  },
  "orig_nbformat": 4
 },
 "nbformat": 4,
 "nbformat_minor": 2
}
