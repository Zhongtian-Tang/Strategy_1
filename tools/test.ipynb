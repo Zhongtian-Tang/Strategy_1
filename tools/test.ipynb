{
 "cells": [
  {
   "cell_type": "code",
   "execution_count": 1,
   "metadata": {},
   "outputs": [
    {
     "name": "stdout",
     "output_type": "stream",
     "text": [
      "c:\\Users\\hazc\\anaconda3\\Lib\\site-packages\\iFinDPy.pth\n"
     ]
    }
   ],
   "source": [
    "from stock_selector import DataFetcher, DataCleaner, DataHandler, StockSelector\n",
    "import numpy as np\n",
    "import pandas as pd\n",
    "import sys\n",
    "import os"
   ]
  },
  {
   "cell_type": "code",
   "execution_count": 2,
   "metadata": {},
   "outputs": [],
   "source": [
    "dataFetcher = DataFetcher()\n",
    "dataHandler = DataHandler()\n",
    "data_file_path = os.path.join(os.path.dirname(os.getcwd()), 'data')\n",
    "base_pool = pd.read_csv(data_file_path + '//codes_map.csv')\n",
    "calender = dataFetcher.get_calender_data('2014-01-01', '2023-08-01', endlevel=[(1,2), (1), (1,2), (1,2)])"
   ]
  },
  {
   "cell_type": "code",
   "execution_count": 3,
   "metadata": {},
   "outputs": [],
   "source": [
    "mv_data = pd.read_csv(data_file_path + '//daily_avg_mv_data.csv')\n",
    "mv_data = mv_data.set_index('wind_code')\n",
    "turnoverV_data = pd.read_csv(data_file_path + '//daily_avg_turnoverV_data.csv')\n",
    "turnoverV_data = turnoverV_data.set_index('wind_code')\n",
    "mv_rank = DataHandler().top_rank(mv_data, 0.8)\n",
    "turnoverV_rank = DataHandler().top_rank(turnoverV_data, 0.8)\n",
    "dividend_rank = pd.read_csv(data_file_path + '//dividend_index_data.csv')\n",
    "dividend_rank = dividend_rank.set_index('wind_code')\n",
    "dividend_rank = dividend_rank.apply(lambda col: col[col==1].index).apply(pd.Series).T\n",
    "stock_pool = []\n",
    "for i in range(115):\n",
    "    common_stocks = np.intersect1d(mv_rank.iloc[:,i].dropna(), np.intersect1d(turnoverV_rank.iloc[:,i].dropna(), dividend_rank.iloc[:,i].dropna()))\n",
    "    stock_pool.append(common_stocks)\n",
    "final_result = pd.DataFrame(stock_pool).T"
   ]
  },
  {
   "cell_type": "code",
   "execution_count": 5,
   "metadata": {},
   "outputs": [],
   "source": [
    "payratio_data = DataFetcher().get_payratio_data(calender)\n",
    "payratio_data = DataHandler().payratio_handler(payratio_data, base_pool)"
   ]
  },
  {
   "cell_type": "code",
   "execution_count": 9,
   "metadata": {},
   "outputs": [],
   "source": [
    "dividend_data = DataHandler().dividend_delta_handler(DataFetcher().get_dividend_data(start_year=2011, end_year=2024),base_pool)"
   ]
  },
  {
   "cell_type": "code",
   "execution_count": 12,
   "metadata": {},
   "outputs": [],
   "source": [
    "dividend_data = dividend_data.reset_index()"
   ]
  },
  {
   "cell_type": "code",
   "execution_count": 13,
   "metadata": {},
   "outputs": [
    {
     "data": {
      "text/html": [
       "<div>\n",
       "<style scoped>\n",
       "    .dataframe tbody tr th:only-of-type {\n",
       "        vertical-align: middle;\n",
       "    }\n",
       "\n",
       "    .dataframe tbody tr th {\n",
       "        vertical-align: top;\n",
       "    }\n",
       "\n",
       "    .dataframe thead th {\n",
       "        text-align: right;\n",
       "    }\n",
       "</style>\n",
       "<table border=\"1\" class=\"dataframe\">\n",
       "  <thead>\n",
       "    <tr style=\"text-align: right;\">\n",
       "      <th></th>\n",
       "      <th>wind_code</th>\n",
       "      <th>year</th>\n",
       "      <th>dividendps</th>\n",
       "    </tr>\n",
       "  </thead>\n",
       "  <tbody>\n",
       "    <tr>\n",
       "      <th>0</th>\n",
       "      <td>000001.SZ</td>\n",
       "      <td>2011</td>\n",
       "      <td>NaN</td>\n",
       "    </tr>\n",
       "    <tr>\n",
       "      <th>1</th>\n",
       "      <td>000001.SZ</td>\n",
       "      <td>2012</td>\n",
       "      <td>NaN</td>\n",
       "    </tr>\n",
       "    <tr>\n",
       "      <th>2</th>\n",
       "      <td>000001.SZ</td>\n",
       "      <td>2013</td>\n",
       "      <td>0.0800</td>\n",
       "    </tr>\n",
       "    <tr>\n",
       "      <th>3</th>\n",
       "      <td>000001.SZ</td>\n",
       "      <td>2014</td>\n",
       "      <td>-0.1480</td>\n",
       "    </tr>\n",
       "    <tr>\n",
       "      <th>4</th>\n",
       "      <td>000001.SZ</td>\n",
       "      <td>2015</td>\n",
       "      <td>-0.0035</td>\n",
       "    </tr>\n",
       "    <tr>\n",
       "      <th>...</th>\n",
       "      <td>...</td>\n",
       "      <td>...</td>\n",
       "      <td>...</td>\n",
       "    </tr>\n",
       "    <tr>\n",
       "      <th>58854</th>\n",
       "      <td>873576.BJ</td>\n",
       "      <td>2019</td>\n",
       "      <td>NaN</td>\n",
       "    </tr>\n",
       "    <tr>\n",
       "      <th>58855</th>\n",
       "      <td>873576.BJ</td>\n",
       "      <td>2020</td>\n",
       "      <td>0.1550</td>\n",
       "    </tr>\n",
       "    <tr>\n",
       "      <th>58856</th>\n",
       "      <td>873576.BJ</td>\n",
       "      <td>2021</td>\n",
       "      <td>0.1900</td>\n",
       "    </tr>\n",
       "    <tr>\n",
       "      <th>58857</th>\n",
       "      <td>873576.BJ</td>\n",
       "      <td>2022</td>\n",
       "      <td>-0.1550</td>\n",
       "    </tr>\n",
       "    <tr>\n",
       "      <th>58858</th>\n",
       "      <td>873576.BJ</td>\n",
       "      <td>2023</td>\n",
       "      <td>-0.1900</td>\n",
       "    </tr>\n",
       "  </tbody>\n",
       "</table>\n",
       "<p>58859 rows × 3 columns</p>\n",
       "</div>"
      ],
      "text/plain": [
       "       wind_code  year  dividendps\n",
       "0      000001.SZ  2011         NaN\n",
       "1      000001.SZ  2012         NaN\n",
       "2      000001.SZ  2013      0.0800\n",
       "3      000001.SZ  2014     -0.1480\n",
       "4      000001.SZ  2015     -0.0035\n",
       "...          ...   ...         ...\n",
       "58854  873576.BJ  2019         NaN\n",
       "58855  873576.BJ  2020      0.1550\n",
       "58856  873576.BJ  2021      0.1900\n",
       "58857  873576.BJ  2022     -0.1550\n",
       "58858  873576.BJ  2023     -0.1900\n",
       "\n",
       "[58859 rows x 3 columns]"
      ]
     },
     "execution_count": 13,
     "metadata": {},
     "output_type": "execute_result"
    }
   ],
   "source": [
    "dividend_data"
   ]
  },
  {
   "cell_type": "code",
   "execution_count": null,
   "metadata": {},
   "outputs": [],
   "source": []
  }
 ],
 "metadata": {
  "kernelspec": {
   "display_name": "base",
   "language": "python",
   "name": "python3"
  },
  "language_info": {
   "codemirror_mode": {
    "name": "ipython",
    "version": 3
   },
   "file_extension": ".py",
   "mimetype": "text/x-python",
   "name": "python",
   "nbconvert_exporter": "python",
   "pygments_lexer": "ipython3",
   "version": "3.10.9"
  },
  "orig_nbformat": 4
 },
 "nbformat": 4,
 "nbformat_minor": 2
}
